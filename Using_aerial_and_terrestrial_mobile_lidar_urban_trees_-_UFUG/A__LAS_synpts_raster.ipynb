{
 "cells": [
  {
   "cell_type": "markdown",
   "metadata": {},
   "source": [
    "# <left>Synthetic Points from Raster tool (*SPR*)\n",
    "\n",
    "## Howdy! \n",
    "\n",
    "This notebook assumes the ipynb resides directly in the “main directory” with a ‘_input’ folder housing the input files. We will create and use an ‘output’ folder for output files.\n",
    "\n",
    "***\n",
    "\n",
    "\"Synthetic Points from Raster $(SPR)$\" will take an input raster and create a single point from each cell with the cell value, and output a new TXT, which can then be read into software (such as Quick Terrain Modeler) as XYZ (ASCII) and exported as LAZ / LAS. \n",
    "<br><br>\n",
    "This is useful for gap-filling from a DEM or generating a \"top of canopy LAS\" from a CHM.\n",
    "<br><br>\n",
    "If it is necessary to replace negative Z values with 0, the last cell will write a new TXT. \n"
   ]
  },
  {
   "cell_type": "markdown",
   "metadata": {},
   "source": [
    "***\n",
    "### 1.0 - Setup Notebook"
   ]
  },
  {
   "cell_type": "markdown",
   "metadata": {},
   "source": [
    "#### Import the necessary modules "
   ]
  },
  {
   "cell_type": "code",
   "execution_count": 1,
   "metadata": {},
   "outputs": [],
   "source": [
    "import os \n",
    "import re\n",
    "import arcpy \n",
    "import pandas as pd\n",
    "from pathlib import Path"
   ]
  },
  {
   "cell_type": "markdown",
   "metadata": {},
   "source": [
    "#### Set workspace \n",
    "Creates an \"output\" folder and sets it as the current working directory so all outputs below don't need a folder specified. \n",
    "This also creates other folders such as \"figures\". "
   ]
  },
  {
   "cell_type": "code",
   "execution_count": 2,
   "metadata": {},
   "outputs": [
    {
     "name": "stdout",
     "output_type": "stream",
     "text": [
      "c:\\Temp\\sample_code\\00_LAS_synpts_raster\\output\n"
     ]
    }
   ],
   "source": [
    "output = './output/'\n",
    "if not os.path.exists(output):\n",
    "    os.makedirs(output)\n",
    "\n",
    "path = os.getcwd() + '\\\\output'\n",
    "os.chdir(path)\n",
    "\n",
    "arcpy.env.workspace = path\n",
    "arcpy.env.overwriteOutput = True\n",
    "\n",
    "print(os.getcwd())"
   ]
  },
  {
   "cell_type": "markdown",
   "metadata": {},
   "source": [
    "### 2.0 - Analysis\n"
   ]
  },
  {
   "cell_type": "markdown",
   "metadata": {},
   "source": [
    "If using the \"_input\" folder for model inputs, this cell lists the files and specific extentions in the folder. "
   ]
  },
  {
   "cell_type": "code",
   "execution_count": 18,
   "metadata": {},
   "outputs": [
    {
     "name": "stdout",
     "output_type": "stream",
     "text": [
      ".tif files in \"_input\" folder: 50cm CHM test.tif\n"
     ]
    }
   ],
   "source": [
    "in_dir = '../_input/'\n",
    "\n",
    "ext = '.tif'\n",
    "for file in os.listdir(in_dir):\n",
    "    if file.endswith(ext):\n",
    "        print(ext + ' files in \"_input\" folder: ' + file)"
   ]
  },
  {
   "cell_type": "markdown",
   "metadata": {},
   "source": [
    "Specifies the input raster from \"_input\" folder or from absolute path. "
   ]
  },
  {
   "cell_type": "code",
   "execution_count": 19,
   "metadata": {},
   "outputs": [],
   "source": [
    "inRaster = in_dir + '50cm CHM test.tif'\n",
    "# inRaster = r\"C:\\Temp\\sample_code\\00_LAS_synpts_raster\\_input\\50cm CHM test.tif\""
   ]
  },
  {
   "cell_type": "markdown",
   "metadata": {},
   "source": [
    "Display the raster. "
   ]
  },
  {
   "cell_type": "code",
   "execution_count": 20,
   "metadata": {},
   "outputs": [
    {
     "data": {
      "image/png": "[encoded data removed]",
      "text/plain": [
       "C:\\Users\\justi\\AppData\\Local\\Temp\\x9a407d6b_4fcc_4325_b5e5_68de825b7d11y0.afr"
      ]
     },
     "execution_count": 20,
     "metadata": {},
     "output_type": "execute_result"
    }
   ],
   "source": [
    "arcpy.sa.Render(inRaster, colormap='gray')"
   ]
  },
  {
   "cell_type": "markdown",
   "metadata": {},
   "source": [
    "Parse path to extract the file basename with extension and replace illegal characters. "
   ]
  },
  {
   "cell_type": "code",
   "execution_count": 21,
   "metadata": {},
   "outputs": [
    {
     "name": "stdout",
     "output_type": "stream",
     "text": [
      "old name: 50cm CHM test\n",
      "new name: _50cm_CHM_test\n"
     ]
    }
   ],
   "source": [
    "name0 = Path(inRaster).stem\n",
    "name1 = re.sub('[^0-9a-zA-Z]+', '_', name0)\n",
    "if name1[0].isdigit():\n",
    "    name1 = \"_\" + name1\n",
    "print('old name: ' + name0)\n",
    "print('new name: ' + name1)"
   ]
  },
  {
   "cell_type": "markdown",
   "metadata": {},
   "source": [
    "Create a point from each cell with the cell value. "
   ]
  },
  {
   "cell_type": "code",
   "execution_count": 22,
   "metadata": {},
   "outputs": [],
   "source": [
    "name_pts = name1 + '_points.shp'\n",
    "rtp = arcpy.conversion.RasterToPoint(inRaster, name_pts, 'VALUE')"
   ]
  },
  {
   "cell_type": "markdown",
   "metadata": {},
   "source": [
    "Creates \"X\" and \"Y\" fields and calculates geometry."
   ]
  },
  {
   "cell_type": "code",
   "execution_count": 23,
   "metadata": {},
   "outputs": [],
   "source": [
    "temp1 = arcpy.management.CalculateGeometryAttributes(rtp, geometry_property=[['X', 'POINT_X'], ['Y', 'POINT_Y']])"
   ]
  },
  {
   "cell_type": "markdown",
   "metadata": {},
   "source": [
    "Creates \"Z\" field and calculates from \"grid_code\". "
   ]
  },
  {
   "cell_type": "code",
   "execution_count": 24,
   "metadata": {},
   "outputs": [],
   "source": [
    "temp2 = arcpy.management.CalculateField(rtp, 'Z', '!grid_code!', field_type = 'DOUBLE')"
   ]
  },
  {
   "cell_type": "markdown",
   "metadata": {},
   "source": [
    "Deletes unnecessary fields and lists remaining fields. "
   ]
  },
  {
   "cell_type": "code",
   "execution_count": 25,
   "metadata": {},
   "outputs": [
    {
     "name": "stdout",
     "output_type": "stream",
     "text": [
      "FID has a type of OID with a length of 4\n",
      "Shape has a type of Geometry with a length of 0\n",
      "X has a type of Double with a length of 19\n",
      "Y has a type of Double with a length of 19\n",
      "Z has a type of Double with a length of 19\n"
     ]
    }
   ],
   "source": [
    "arcpy.management.DeleteField(name_pts, ['grid_code', 'pointid'])\n",
    "\n",
    "fields = arcpy.ListFields(name_pts)\n",
    "\n",
    "for field in fields:\n",
    "    print(f\"{field.name} has a type of {field.type} with a length of {field.length}\")\n"
   ]
  },
  {
   "cell_type": "markdown",
   "metadata": {},
   "source": [
    "### 3.0 - Export TXT and review the table."
   ]
  },
  {
   "cell_type": "code",
   "execution_count": 26,
   "metadata": {},
   "outputs": [
    {
     "data": {
      "text/html": [
       "<div>\n",
       "<style scoped>\n",
       "    .dataframe tbody tr th:only-of-type {\n",
       "        vertical-align: middle;\n",
       "    }\n",
       "\n",
       "    .dataframe tbody tr th {\n",
       "        vertical-align: top;\n",
       "    }\n",
       "\n",
       "    .dataframe thead th {\n",
       "        text-align: right;\n",
       "    }\n",
       "</style>\n",
       "<table border=\"1\" class=\"dataframe\">\n",
       "  <thead>\n",
       "    <tr style=\"text-align: right;\">\n",
       "      <th></th>\n",
       "      <th>X</th>\n",
       "      <th>Y</th>\n",
       "      <th>Z</th>\n",
       "    </tr>\n",
       "  </thead>\n",
       "  <tbody>\n",
       "    <tr>\n",
       "      <th>0</th>\n",
       "      <td>754159.457794</td>\n",
       "      <td>3.389055e+06</td>\n",
       "      <td>-0.000047</td>\n",
       "    </tr>\n",
       "    <tr>\n",
       "      <th>1</th>\n",
       "      <td>754159.957793</td>\n",
       "      <td>3.389055e+06</td>\n",
       "      <td>-0.000047</td>\n",
       "    </tr>\n",
       "    <tr>\n",
       "      <th>2</th>\n",
       "      <td>754160.457793</td>\n",
       "      <td>3.389055e+06</td>\n",
       "      <td>-0.000047</td>\n",
       "    </tr>\n",
       "    <tr>\n",
       "      <th>3</th>\n",
       "      <td>754160.957792</td>\n",
       "      <td>3.389055e+06</td>\n",
       "      <td>-0.000047</td>\n",
       "    </tr>\n",
       "    <tr>\n",
       "      <th>4</th>\n",
       "      <td>754161.457791</td>\n",
       "      <td>3.389055e+06</td>\n",
       "      <td>-0.000047</td>\n",
       "    </tr>\n",
       "  </tbody>\n",
       "</table>\n",
       "</div>"
      ],
      "text/plain": [
       "               X             Y         Z\n",
       "0  754159.457794  3.389055e+06 -0.000047\n",
       "1  754159.957793  3.389055e+06 -0.000047\n",
       "2  754160.457793  3.389055e+06 -0.000047\n",
       "3  754160.957792  3.389055e+06 -0.000047\n",
       "4  754161.457791  3.389055e+06 -0.000047"
      ]
     },
     "execution_count": 26,
     "metadata": {},
     "output_type": "execute_result"
    }
   ],
   "source": [
    "name_table = name1 + '_points_table.txt'\n",
    "arcpy.conversion.ExportTable(name_pts, name_table)\n",
    "tab = pd.read_csv(name_table)\n",
    "tab.head()"
   ]
  },
  {
   "cell_type": "markdown",
   "metadata": {},
   "source": [
    "Check min and max Z values. "
   ]
  },
  {
   "cell_type": "code",
   "execution_count": 27,
   "metadata": {},
   "outputs": [
    {
     "name": "stdout",
     "output_type": "stream",
     "text": [
      "min:  -0.334\n",
      "max:  7.878\n"
     ]
    }
   ],
   "source": [
    "print('min: ', f'{min(tab.loc[:,\"Z\"]):.3f}')\n",
    "print('max: ', f'{max(tab.loc[:,\"Z\"]):.3f}')"
   ]
  },
  {
   "cell_type": "markdown",
   "metadata": {},
   "source": [
    "### 3.1 - Convert negative Z values to 0 and export new TXT"
   ]
  },
  {
   "cell_type": "markdown",
   "metadata": {},
   "source": [
    "If you need to replace negative Z values, use the code below.\n",
    "\n",
    "The `lidR` treetops script does not like negative values, so we will replace with 0 and write a new TXT. "
   ]
  },
  {
   "cell_type": "code",
   "execution_count": 29,
   "metadata": {},
   "outputs": [
    {
     "name": "stdout",
     "output_type": "stream",
     "text": [
      "min:  0.000\n",
      "max:  7.878\n"
     ]
    }
   ],
   "source": [
    "tab.loc[tab['Z']<0, 'Z'] = 0\n",
    "print('min: ', f'{min(tab.loc[:,\"Z\"]):.3f}')\n",
    "print('max: ', f'{max(tab.loc[:,\"Z\"]):.3f}')\n",
    "tab.to_csv(name1 + '_points_table_0Z.txt', index=False)"
   ]
  },
  {
   "cell_type": "markdown",
   "metadata": {},
   "source": [
    "This TXT can be read into software (such as Quick Terrain Modeler) as XYZ (ASCII) and exported as LAZ / LAS. "
   ]
  },
  {
   "cell_type": "markdown",
   "metadata": {},
   "source": [
    "## Contact \n",
    "\n",
    "**Justinn J. Jones ’24, GISP**\n",
    "\n",
    "Graduate Research Assistant / FAA sUAS RP\n",
    "\n",
    "LASERS Lab / WFES 360\n",
    "\n",
    "Department of Ecology & Conservation Biology\n",
    "\n",
    "College of Agriculture & Life Sciences\n",
    "\n",
    "justinn.j.jones@tamu.edu\n",
    "\n",
    "**TEXAS A&M UNIVERSITY**"
   ]
  }
 ],
 "metadata": {
  "kernelspec": {
   "display_name": "arcgispro-py3",
   "language": "python",
   "name": "python3"
  },
  "language_info": {
   "codemirror_mode": {
    "name": "ipython",
    "version": 3
   },
   "file_extension": ".py",
   "mimetype": "text/x-python",
   "name": "python",
   "nbconvert_exporter": "python",
   "pygments_lexer": "ipython3",
   "version": "3.9.18"
  }
 },
 "nbformat": 4,
 "nbformat_minor": 2
}
